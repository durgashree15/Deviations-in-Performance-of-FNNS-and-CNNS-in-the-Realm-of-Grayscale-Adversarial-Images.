{
  "cells": [
    {
      "cell_type": "code",
      "execution_count": null,
      "metadata": {
        "colab": {
          "base_uri": "https://localhost:8080/"
        },
        "id": "BCiY7MzE7Ari",
        "outputId": "106b414f-2191-4c46-bdf5-788e29ea4c6d"
      },
      "outputs": [
        {
          "output_type": "stream",
          "name": "stdout",
          "text": [
            "Looking in indexes: https://pypi.org/simple, https://us-python.pkg.dev/colab-wheels/public/simple/\n",
            "Requirement already satisfied: adversarial-robustness-toolbox in /usr/local/lib/python3.7/dist-packages (1.11.0)\n",
            "Requirement already satisfied: numpy>=1.18.0 in /usr/local/lib/python3.7/dist-packages (from adversarial-robustness-toolbox) (1.21.6)\n",
            "Requirement already satisfied: scipy>=1.4.1 in /usr/local/lib/python3.7/dist-packages (from adversarial-robustness-toolbox) (1.7.3)\n",
            "Requirement already satisfied: setuptools in /usr/local/lib/python3.7/dist-packages (from adversarial-robustness-toolbox) (57.4.0)\n",
            "Requirement already satisfied: numba>=0.53.1 in /usr/local/lib/python3.7/dist-packages (from adversarial-robustness-toolbox) (0.56.0)\n",
            "Requirement already satisfied: scikit-learn<1.1.0,>=0.22.2 in /usr/local/lib/python3.7/dist-packages (from adversarial-robustness-toolbox) (1.0.2)\n",
            "Requirement already satisfied: six in /usr/local/lib/python3.7/dist-packages (from adversarial-robustness-toolbox) (1.15.0)\n",
            "Requirement already satisfied: tqdm in /usr/local/lib/python3.7/dist-packages (from adversarial-robustness-toolbox) (4.64.0)\n",
            "Requirement already satisfied: llvmlite<0.40,>=0.39.0dev0 in /usr/local/lib/python3.7/dist-packages (from numba>=0.53.1->adversarial-robustness-toolbox) (0.39.0)\n",
            "Requirement already satisfied: importlib-metadata in /usr/local/lib/python3.7/dist-packages (from numba>=0.53.1->adversarial-robustness-toolbox) (4.12.0)\n",
            "Requirement already satisfied: joblib>=0.11 in /usr/local/lib/python3.7/dist-packages (from scikit-learn<1.1.0,>=0.22.2->adversarial-robustness-toolbox) (1.1.0)\n",
            "Requirement already satisfied: threadpoolctl>=2.0.0 in /usr/local/lib/python3.7/dist-packages (from scikit-learn<1.1.0,>=0.22.2->adversarial-robustness-toolbox) (3.1.0)\n",
            "Requirement already satisfied: zipp>=0.5 in /usr/local/lib/python3.7/dist-packages (from importlib-metadata->numba>=0.53.1->adversarial-robustness-toolbox) (3.8.1)\n",
            "Requirement already satisfied: typing-extensions>=3.6.4 in /usr/local/lib/python3.7/dist-packages (from importlib-metadata->numba>=0.53.1->adversarial-robustness-toolbox) (4.1.1)\n"
          ]
        }
      ],
      "source": [
        "!pip install adversarial-robustness-toolbox\n",
        "\n",
        "import torch\n",
        "import torchvision\n",
        "import numpy as np\n",
        "import matplotlib\n",
        "import matplotlib.pyplot as plt\n",
        "import torch.nn as nn\n",
        "import torch.nn.functional as F\n",
        "from torchvision.datasets import MNIST\n",
        "from torchvision.transforms import ToTensor\n",
        "from torchvision.utils import make_grid\n",
        "from torch.utils.data.dataloader import DataLoader\n",
        "from torch.utils.data import random_split\n",
        "%matplotlib inline\n",
        "import pandas as pd\n",
        "\n",
        "import torch.optim as optim\n",
        "import numpy as np\n",
        "\n",
        "from art.attacks.evasion import FastGradientMethod\n",
        "from art.estimators.classification import PyTorchClassifier\n",
        "from art.utils import load_mnist\n",
        "\n",
        "\n",
        "\n",
        "matplotlib.rcParams['figure.facecolor'] = '#ffffff'\n",
        "import os\n",
        "user = os.uname().nodename\n",
        "import datetime"
      ]
    },
    {
      "cell_type": "code",
      "execution_count": null,
      "metadata": {
        "id": "k3f679nI7V3D"
      },
      "outputs": [],
      "source": [
        "dataset = MNIST(root='data/', download=True, transform=ToTensor())"
      ]
    },
    {
      "cell_type": "code",
      "execution_count": null,
      "metadata": {
        "colab": {
          "base_uri": "https://localhost:8080/"
        },
        "id": "DTEdkzro8A1c",
        "outputId": "9f6d415c-57a6-403e-b18e-f3370eac9a98"
      },
      "outputs": [
        {
          "output_type": "execute_result",
          "data": {
            "text/plain": [
              "(50000, 10000)"
            ]
          },
          "metadata": {},
          "execution_count": 3
        }
      ],
      "source": [
        "val_size = 10000\n",
        "train_size = len(dataset) - val_size\n",
        "\n",
        "train_ds, val_ds = random_split(dataset, [train_size, val_size])\n",
        "len(train_ds), len(val_ds)"
      ]
    },
    {
      "cell_type": "code",
      "execution_count": null,
      "metadata": {
        "colab": {
          "base_uri": "https://localhost:8080/"
        },
        "id": "e5AXpfJA8BQG",
        "outputId": "4e060353-9405-48dd-ccd4-b6759d669f81"
      },
      "outputs": [
        {
          "output_type": "stream",
          "name": "stderr",
          "text": [
            "/usr/local/lib/python3.7/dist-packages/torch/utils/data/dataloader.py:566: UserWarning: This DataLoader will create 4 worker processes in total. Our suggested max number of worker in current system is 2, which is smaller than what this DataLoader is going to create. Please be aware that excessive worker creation might get DataLoader running slow or even freeze, lower the worker number to avoid potential slowness/freeze if necessary.\n",
            "  cpuset_checked))\n"
          ]
        }
      ],
      "source": [
        "batch_size=128\n",
        "train_dl = DataLoader(train_ds, batch_size, shuffle=True, num_workers=4, pin_memory=True)\n",
        "val_dl = DataLoader(val_ds, batch_size*2, num_workers=4, pin_memory=True)"
      ]
    },
    {
      "cell_type": "code",
      "execution_count": null,
      "metadata": {
        "id": "GgqYH6b98DFc"
      },
      "outputs": [],
      "source": [
        "from torchvision.utils import make_grid\n",
        "\n",
        "def show_batch(dl):\n",
        "    for images, labels in dl:\n",
        "        fig, ax = plt.subplots(figsize=(12, 6))\n",
        "        ax.set_xticks([]); ax.set_yticks([])\n",
        "        ax.imshow(make_grid(images, nrow=16).permute(1, 2, 0))\n",
        "        break"
      ]
    },
    {
      "cell_type": "code",
      "execution_count": null,
      "metadata": {
        "colab": {
          "base_uri": "https://localhost:8080/",
          "height": 361
        },
        "id": "qKydC-Wm8E-T",
        "outputId": "04a675bb-4c02-4b74-b6a9-ae016915abf8"
      },
      "outputs": [
        {
          "output_type": "display_data",
          "data": {
            "text/plain": [
              "<Figure size 864x432 with 1 Axes>"
            ],
            "image/png": "[encoded data removed]"
          },
          "metadata": {}
        }
      ],
      "source": [
        "show_batch(train_dl)"
      ]
    },
    {
      "cell_type": "code",
      "execution_count": null,
      "metadata": {
        "id": "7sWi09Je8HZ1"
      },
      "outputs": [],
      "source": [
        "def apply_kernel(image, kernel):\n",
        "    ri, ci = image.shape       # image dimensions\n",
        "    rk, ck = kernel.shape      # kernel dimensions\n",
        "    ro, co = ri-rk+1, ci-ck+1  # output dimensions\n",
        "    output = torch.zeros([ro, co])\n",
        "    for i in range(ro):\n",
        "        for j in range(co):\n",
        "            output[i,j] = torch.sum(image[i:i+rk,j:j+ck] * kernel)\n",
        "    return output"
      ]
    },
    {
      "cell_type": "code",
      "execution_count": null,
      "metadata": {
        "colab": {
          "base_uri": "https://localhost:8080/"
        },
        "id": "Y66SeAp68Lmn",
        "outputId": "0ed4b946-5e2c-488b-ac86-a79a1bcf98fc"
      },
      "outputs": [
        {
          "output_type": "execute_result",
          "data": {
            "text/plain": [
              "tensor([[12., 12., 17.],\n",
              "        [10., 17., 19.],\n",
              "        [ 9.,  6., 14.]])"
            ]
          },
          "metadata": {},
          "execution_count": 8
        }
      ],
      "source": [
        "sample_image = torch.tensor([\n",
        "    [3, 3, 2, 1, 0],\n",
        "    [0, 0, 1, 3, 1],\n",
        "    [3, 1, 2, 2, 3],\n",
        "    [2, 0, 0, 2, 2],\n",
        "    [2, 0, 0, 0, 1]\n",
        "], dtype=torch.float32)\n",
        "\n",
        "sample_kernel = torch.tensor([\n",
        "    [0, 1, 2],\n",
        "    [2, 2, 0],\n",
        "    [0, 1, 2]\n",
        "], dtype=torch.float32)\n",
        "\n",
        "apply_kernel(sample_image, sample_kernel)"
      ]
    },
    {
      "cell_type": "code",
      "execution_count": null,
      "metadata": {
        "id": "nSTNFPpH8NOx"
      },
      "outputs": [],
      "source": [
        "simple_model = nn.Sequential(\n",
        "    nn.Conv2d(1, 8, kernel_size=3, stride=1, padding=1), #first argument changed from 3 to 1\n",
        "    nn.MaxPool2d(2, 2)\n",
        ")"
      ]
    },
    {
      "cell_type": "code",
      "execution_count": null,
      "metadata": {
        "colab": {
          "base_uri": "https://localhost:8080/"
        },
        "id": "KtiztowY8PnG",
        "outputId": "c1816df5-1862-4bbb-c6c9-fee9e51f3c94"
      },
      "outputs": [
        {
          "output_type": "stream",
          "name": "stdout",
          "text": [
            "images.shape: torch.Size([128, 1, 28, 28])\n",
            "out.shape: torch.Size([128, 8, 14, 14])\n"
          ]
        }
      ],
      "source": [
        "for images, labels in train_dl:\n",
        "    print('images.shape:', images.shape)\n",
        "    out = simple_model(images)\n",
        "    print('out.shape:', out.shape)\n",
        "    break"
      ]
    },
    {
      "cell_type": "code",
      "execution_count": null,
      "metadata": {
        "id": "ibpWSk8d8RVc"
      },
      "outputs": [],
      "source": [
        "class ImageClassificationBase(nn.Module):\n",
        "    def training_step(self, batch):\n",
        "        images, labels = batch\n",
        "        out = self(images)                  # Generate predictions\n",
        "        loss = F.cross_entropy(out, labels) # Calculate loss\n",
        "        return loss\n",
        "\n",
        "    def validation_step(self, batch):\n",
        "        images, labels = batch\n",
        "        out = self(images)                    # Generate predictions\n",
        "        loss = F.cross_entropy(out, labels)   # Calculate loss\n",
        "        acc = accuracy(out, labels)           # Calculate accuracy\n",
        "        return {'val_loss': loss.detach(), 'val_acc': acc}\n",
        "\n",
        "    def validation_epoch_end(self, outputs):\n",
        "        batch_losses = [x['val_loss'] for x in outputs]\n",
        "        epoch_loss = torch.stack(batch_losses).mean()   # Combine losses\n",
        "        batch_accs = [x['val_acc'] for x in outputs]\n",
        "        epoch_acc = torch.stack(batch_accs).mean()      # Combine accuracies\n",
        "        return {'val_loss': epoch_loss.item(), 'val_acc': epoch_acc.item()}\n",
        "\n",
        "    def epoch_end(self, epoch, result):\n",
        "        print(\"Epoch [{}], train_loss: {:.4f}, val_loss: {:.4f}, val_acc: {:.4f}\".format(\n",
        "            epoch, result['train_loss'], result['val_loss'], result['val_acc']))\n",
        "\n",
        "def accuracy(outputs, labels):\n",
        "    _, preds = torch.max(outputs, dim=1)\n",
        "    return torch.tensor(torch.sum(preds == labels).item() / len(preds))"
      ]
    },
    {
      "cell_type": "code",
      "execution_count": null,
      "metadata": {
        "colab": {
          "base_uri": "https://localhost:8080/"
        },
        "id": "-ql_YCO98TFw",
        "outputId": "54501cbd-4963-4058-8ab5-f6da9e8790be"
      },
      "outputs": [
        {
          "output_type": "execute_result",
          "data": {
            "text/plain": [
              "MNIST_CNN3(\n",
              "  (network): Sequential(\n",
              "    (0): Conv2d(1, 32, kernel_size=(3, 3), stride=(1, 1), padding=(1, 1))\n",
              "    (1): ReLU()\n",
              "    (2): Conv2d(32, 64, kernel_size=(3, 3), stride=(1, 1), padding=(1, 1))\n",
              "    (3): ReLU()\n",
              "    (4): MaxPool2d(kernel_size=2, stride=2, padding=0, dilation=1, ceil_mode=False)\n",
              "    (5): Conv2d(64, 128, kernel_size=(3, 3), stride=(1, 1), padding=(1, 1))\n",
              "    (6): ReLU()\n",
              "    (7): MaxPool2d(kernel_size=2, stride=2, padding=0, dilation=1, ceil_mode=False)\n",
              "    (8): Flatten(start_dim=1, end_dim=-1)\n",
              "    (9): Linear(in_features=6272, out_features=512, bias=True)\n",
              "    (10): ReLU()\n",
              "    (11): Linear(in_features=512, out_features=256, bias=True)\n",
              "    (12): ReLU()\n",
              "    (13): Linear(in_features=256, out_features=10, bias=True)\n",
              "  )\n",
              ")"
            ]
          },
          "metadata": {},
          "execution_count": 12
        }
      ],
      "source": [
        "class MNIST_CNN3(ImageClassificationBase):\n",
        "    def __init__(self):\n",
        "        super().__init__()\n",
        "        self.network = nn.Sequential(\n",
        "            nn.Conv2d(1, 32, kernel_size=3, padding=1),\n",
        "            nn.ReLU(),\n",
        "            nn.Conv2d(32, 64, kernel_size=3, stride=1, padding=1),\n",
        "            nn.ReLU(),\n",
        "            nn.MaxPool2d(2, 2), # output: 64 x 16 x 16\n",
        "\n",
        "            nn.Conv2d(64, 128, kernel_size=3, stride=1, padding=1),\n",
        "            nn.ReLU(),\n",
        "            nn.MaxPool2d(2, 2),\n",
        "\n",
        "            nn.Flatten(),\n",
        "            nn.Linear(6272, 512),\n",
        "            nn.ReLU(),\n",
        "            nn.Linear(512, 256),\n",
        "            nn.ReLU(),\n",
        "            nn.Linear(256, 10))\n",
        "\n",
        "    def forward(self, xb):\n",
        "        return self.network(xb)\n",
        "\n",
        "'''\n",
        "            nn.Conv2d(128, 128, kernel_size=3, stride=1, padding=1),\n",
        "            nn.ReLU(),\n",
        "            nn.MaxPool2d(2, 2), # output: 128 x 8 x 8\n",
        "\n",
        "            nn.Conv2d(128, 256, kernel_size=3, stride=1, padding=1),\n",
        "            nn.ReLU(),\n",
        "            nn.Conv2d(256, 256, kernel_size=3, stride=1, padding=1),\n",
        "            nn.ReLU(),\n",
        "            nn.MaxPool2d(2, 2), # output: 256 x 4 x 4\n",
        "'''\n",
        "\n",
        "\n",
        "model1 = MNIST_CNN3()\n",
        "model1"
      ]
    },
    {
      "cell_type": "code",
      "execution_count": null,
      "metadata": {
        "colab": {
          "base_uri": "https://localhost:8080/"
        },
        "id": "kZVmzgNDxBM0",
        "outputId": "e50c5655-1575-43e1-e62b-ffd4e25693d1"
      },
      "outputs": [
        {
          "output_type": "execute_result",
          "data": {
            "text/plain": [
              "MNIST_CNN4(\n",
              "  (network): Sequential(\n",
              "    (0): Conv2d(1, 64, kernel_size=(3, 3), stride=(1, 1), padding=(1, 1))\n",
              "    (1): ReLU()\n",
              "    (2): Conv2d(64, 128, kernel_size=(3, 3), stride=(1, 1), padding=(1, 1))\n",
              "    (3): ReLU()\n",
              "    (4): MaxPool2d(kernel_size=2, stride=2, padding=0, dilation=1, ceil_mode=False)\n",
              "    (5): Conv2d(128, 256, kernel_size=(3, 3), stride=(1, 1), padding=(1, 1))\n",
              "    (6): ReLU()\n",
              "    (7): Conv2d(256, 256, kernel_size=(3, 3), stride=(1, 1), padding=(1, 1))\n",
              "    (8): ReLU()\n",
              "    (9): MaxPool2d(kernel_size=2, stride=2, padding=0, dilation=1, ceil_mode=False)\n",
              "    (10): Conv2d(256, 512, kernel_size=(3, 3), stride=(1, 1), padding=(1, 1))\n",
              "    (11): ReLU()\n",
              "    (12): Conv2d(512, 512, kernel_size=(3, 3), stride=(1, 1), padding=(1, 1))\n",
              "    (13): ReLU()\n",
              "    (14): MaxPool2d(kernel_size=2, stride=2, padding=0, dilation=1, ceil_mode=False)\n",
              "    (15): Conv2d(512, 1024, kernel_size=(3, 3), stride=(1, 1), padding=(1, 1))\n",
              "    (16): ReLU()\n",
              "    (17): Conv2d(1024, 1024, kernel_size=(3, 3), stride=(1, 1), padding=(1, 1))\n",
              "    (18): ReLU()\n",
              "    (19): MaxPool2d(kernel_size=2, stride=2, padding=0, dilation=1, ceil_mode=False)\n",
              "    (20): Flatten(start_dim=1, end_dim=-1)\n",
              "    (21): Linear(in_features=1024, out_features=512, bias=True)\n",
              "    (22): ReLU()\n",
              "    (23): Linear(in_features=512, out_features=128, bias=True)\n",
              "    (24): ReLU()\n",
              "    (25): Linear(in_features=128, out_features=10, bias=True)\n",
              "  )\n",
              ")"
            ]
          },
          "metadata": {},
          "execution_count": 13
        }
      ],
      "source": [
        "class MNIST_CNN4(ImageClassificationBase):\n",
        "    def __init__(self):\n",
        "        super().__init__()\n",
        "        self.network = nn.Sequential(\n",
        "            nn.Conv2d(1, 64, kernel_size=3, padding=1),\n",
        "            nn.ReLU(),\n",
        "            nn.Conv2d(64, 128, kernel_size=3, stride=1, padding=1),\n",
        "            nn.ReLU(),\n",
        "            nn.MaxPool2d(2, 2), # output: 64 x 16 x 16\n",
        "\n",
        "            nn.Conv2d(128, 256, kernel_size=3, stride=1, padding=1),\n",
        "            nn.ReLU(),\n",
        "            nn.Conv2d(256, 256, kernel_size=3, stride=1, padding=1),\n",
        "            nn.ReLU(),\n",
        "            nn.MaxPool2d(2, 2), # output: 128 x 8 x 8\n",
        "\n",
        "            nn.Conv2d(256, 512, kernel_size=3, stride=1, padding=1),\n",
        "            nn.ReLU(),\n",
        "            nn.Conv2d(512, 512, kernel_size=3, stride=1, padding=1),\n",
        "            nn.ReLU(),\n",
        "            nn.MaxPool2d(2, 2), # output: 256 x 4 x 4\n",
        "\n",
        "            nn.Conv2d(512, 1024, kernel_size=3, stride=1, padding=1),\n",
        "            nn.ReLU(),\n",
        "            nn.Conv2d(1024, 1024, kernel_size=3, stride=1, padding=1),\n",
        "            nn.ReLU(),\n",
        "            nn.MaxPool2d(2, 2), # output: 256 x 4 x 4\n",
        "\n",
        "            nn.Flatten(),\n",
        "            nn.Linear(1024, 512),\n",
        "            nn.ReLU(),\n",
        "            nn.Linear(512, 128),\n",
        "            nn.ReLU(),\n",
        "            nn.Linear(128, 10))\n",
        "\n",
        "    def forward(self, xb):\n",
        "        return self.network(xb)\n",
        "model2 = MNIST_CNN4()\n",
        "model2"
      ]
    },
    {
      "cell_type": "code",
      "execution_count": null,
      "metadata": {
        "id": "mnQRYqapxID2"
      },
      "outputs": [],
      "source": [
        "model = model1"
      ]
    },
    {
      "cell_type": "code",
      "execution_count": null,
      "metadata": {
        "colab": {
          "base_uri": "https://localhost:8080/"
        },
        "id": "sjFC9t8F8Uzz",
        "outputId": "9d56914c-3c2b-4638-ba57-14dc0c698a83"
      },
      "outputs": [
        {
          "output_type": "stream",
          "name": "stdout",
          "text": [
            "images.shape: torch.Size([128, 1, 28, 28])\n",
            "out.shape: torch.Size([128, 10])\n",
            "out[0]: tensor([ 0.0260, -0.0100,  0.0388,  0.0080,  0.0166, -0.0439, -0.0647, -0.0529,\n",
            "        -0.0183,  0.0500], grad_fn=<SelectBackward0>)\n"
          ]
        }
      ],
      "source": [
        "for images, labels in train_dl:\n",
        "    print('images.shape:', images.shape)\n",
        "    out = model(images)\n",
        "    print('out.shape:', out.shape)\n",
        "    print('out[0]:', out[0])\n",
        "    break"
      ]
    },
    {
      "cell_type": "code",
      "execution_count": null,
      "metadata": {
        "id": "7EUR7RL38XYd"
      },
      "outputs": [],
      "source": [
        "def get_default_device():\n",
        "    \"\"\"Pick GPU if available, else CPU\"\"\"\n",
        "    if torch.cuda.is_available():\n",
        "        return torch.device('cuda')\n",
        "    else:\n",
        "        return torch.device('cpu')\n",
        "\n",
        "def to_device(data, device):\n",
        "    \"\"\"Move tensor(s) to chosen device\"\"\"\n",
        "    if isinstance(data, (list,tuple)):\n",
        "        return [to_device(x, device) for x in data]\n",
        "    return data.to(device, non_blocking=True)\n",
        "\n",
        "class DeviceDataLoader():\n",
        "    \"\"\"Wrap a dataloader to move data to a device\"\"\"\n",
        "    def __init__(self, dl, device):\n",
        "        self.dl = dl\n",
        "        self.device = device\n",
        "\n",
        "    def __iter__(self):\n",
        "        \"\"\"Yield a batch of data after moving it to device\"\"\"\n",
        "        for b in self.dl:\n",
        "            yield to_device(b, self.device)\n",
        "\n",
        "    def __len__(self):\n",
        "        \"\"\"Number of batches\"\"\"\n",
        "        return len(self.dl)"
      ]
    },
    {
      "cell_type": "code",
      "execution_count": null,
      "metadata": {
        "colab": {
          "base_uri": "https://localhost:8080/"
        },
        "id": "85_5KlF18dXI",
        "outputId": "78e7f6a9-65c1-40b5-dc8a-29d562199976"
      },
      "outputs": [
        {
          "output_type": "execute_result",
          "data": {
            "text/plain": [
              "device(type='cuda')"
            ]
          },
          "metadata": {},
          "execution_count": 17
        }
      ],
      "source": [
        "device = get_default_device()\n",
        "device"
      ]
    },
    {
      "cell_type": "code",
      "execution_count": null,
      "metadata": {
        "id": "vO8LhEYw8fGA"
      },
      "outputs": [],
      "source": [
        "train_dl = DeviceDataLoader(train_dl, device)\n",
        "val_dl = DeviceDataLoader(val_dl, device)\n",
        "to_device(model, device);"
      ]
    },
    {
      "cell_type": "code",
      "execution_count": null,
      "metadata": {
        "id": "YV7y8KXu8hbP"
      },
      "outputs": [],
      "source": [
        "@torch.no_grad()\n",
        "def evaluate(model, val_loader):\n",
        "    model.eval()\n",
        "    outputs = [model.validation_step(batch) for batch in val_loader]\n",
        "    return model.validation_epoch_end(outputs)\n",
        "\n",
        "def fit(epochs, lr, model, train_loader, val_loader, opt_func=torch.optim.SGD):\n",
        "    history = []\n",
        "    optimizer = opt_func(model.parameters(), lr)\n",
        "    for epoch in range(epochs):\n",
        "        # Training Phase\n",
        "        model.train()\n",
        "        train_losses = []\n",
        "        for batch in train_loader:\n",
        "            loss = model.training_step(batch)\n",
        "            train_losses.append(loss)\n",
        "            loss.backward()\n",
        "            optimizer.step()\n",
        "            optimizer.zero_grad()\n",
        "        # Validation phase\n",
        "        result = evaluate(model, val_loader)\n",
        "        result['train_loss'] = torch.stack(train_losses).mean().item()\n",
        "        model.epoch_end(epoch, result)\n",
        "        history.append(result)\n",
        "        print(result)"
      ]
    },
    {
      "cell_type": "code",
      "execution_count": null,
      "metadata": {
        "id": "dDcql5AP8jT3"
      },
      "outputs": [],
      "source": [
        "model = to_device(model, device)"
      ]
    },
    {
      "cell_type": "code",
      "execution_count": null,
      "metadata": {
        "colab": {
          "base_uri": "https://localhost:8080/"
        },
        "id": "Tp6fkuVe8mF7",
        "outputId": "4d98bded-9c14-4900-81ec-61f7fb5fa60f"
      },
      "outputs": [
        {
          "output_type": "execute_result",
          "data": {
            "text/plain": [
              "{'val_loss': 2.302743673324585, 'val_acc': 0.10244140774011612}"
            ]
          },
          "metadata": {},
          "execution_count": 21
        }
      ],
      "source": [
        "evaluate(model, val_dl)"
      ]
    },
    {
      "cell_type": "code",
      "execution_count": null,
      "metadata": {
        "id": "mpdw-bViAEc-"
      },
      "outputs": [],
      "source": [
        "(x_train, y_train), (x_test, y_test), min_pixel_value, max_pixel_value = load_mnist()\n",
        "\n",
        "x_train = np.transpose(x_train, (0, 3, 1, 2)).astype(np.float32)\n",
        "x_test = np.transpose(x_test, (0, 3, 1, 2)).astype(np.float32)"
      ]
    },
    {
      "cell_type": "code",
      "execution_count": null,
      "metadata": {
        "id": "QDYbe1HeOPrS"
      },
      "outputs": [],
      "source": [
        "testno = 0\n",
        "log_3layers = {}\n",
        "log3layers = {}"
      ]
    },
    {
      "cell_type": "code",
      "execution_count": null,
      "metadata": {
        "id": "U5EEFVO5-qoq"
      },
      "outputs": [],
      "source": [
        "num_epochs = 1\n",
        "learning_rate = 0.000001"
      ]
    },
    {
      "cell_type": "code",
      "execution_count": null,
      "metadata": {
        "id": "0_Prju5t-td2"
      },
      "outputs": [],
      "source": [
        "criterion = nn.CrossEntropyLoss()\n",
        "optimizer = optim.Adam(model.parameters(), lr=learning_rate)"
      ]
    },
    {
      "cell_type": "code",
      "execution_count": null,
      "metadata": {
        "id": "pmM6TknB-ve7"
      },
      "outputs": [],
      "source": [
        "def accuracy(predictions):\n",
        "    return (np.sum(np.argmax(predictions, axis=1) == np.argmax(y_test, axis=1)) / len(y_test))"
      ]
    },
    {
      "cell_type": "code",
      "execution_count": null,
      "metadata": {
        "id": "mkV0xCjO-xGF"
      },
      "outputs": [],
      "source": [
        "classifier = PyTorchClassifier(\n",
        "    model=model,\n",
        "    clip_values=(min_pixel_value, max_pixel_value),\n",
        "    loss=criterion,\n",
        "    optimizer=optimizer,\n",
        "    input_shape=(1, 28, 28),\n",
        "    nb_classes=10,\n",
        ")"
      ]
    },
    {
      "cell_type": "code",
      "execution_count": null,
      "metadata": {
        "id": "bvluzDFi-zBH"
      },
      "outputs": [],
      "source": [
        "def trainandtest(n):\n",
        "    for i in range(n):\n",
        "        global testno\n",
        "        testno+=1\n",
        "        classifier.fit(x_train, y_train, batch_size=128, nb_epochs=num_epochs)\n",
        "        benign_predictions = classifier.predict(x_test)\n",
        "        benign_accuracy = accuracy(benign_predictions)*100\n",
        "\n",
        "        attack = FastGradientMethod(estimator=classifier, eps=1.5)\n",
        "        x_test_adv = attack.generate(x=x_test)\n",
        "\n",
        "\n",
        "        adv_predictions = classifier.predict(x_test_adv)\n",
        "        adv_accuracy = accuracy(adv_predictions) * 100\n",
        "        e = datetime.datetime.now()\n",
        "        log3layers[testno] = {'Test Number':testno,\n",
        "                              'Learning Rate': learning_rate,\n",
        "                              'Number of Epochs':num_epochs,\n",
        "                              'Accuracy with Benign Test Set':benign_accuracy,\n",
        "                              'Accuracy with Adversarial Test Set':adv_accuracy,\n",
        "                             'Machine':user\n",
        "                             }\n",
        "        print(\"iteration \",testno,\" over\")"
      ]
    },
    {
      "cell_type": "code",
      "execution_count": null,
      "metadata": {
        "colab": {
          "base_uri": "https://localhost:8080/"
        },
        "id": "MRHrqENv-0uJ",
        "outputId": "0b37e13b-018c-439f-cd02-897a32f8c5d9"
      },
      "outputs": [
        {
          "output_type": "stream",
          "name": "stdout",
          "text": [
            "iteration  31  over\n",
            "iteration  32  over\n",
            "iteration  33  over\n",
            "iteration  34  over\n",
            "iteration  35  over\n",
            "iteration  36  over\n",
            "iteration  37  over\n",
            "iteration  38  over\n",
            "iteration  39  over\n",
            "iteration  40  over\n"
          ]
        }
      ],
      "source": [
        "trainandtest(10)"
      ]
    },
    {
      "cell_type": "code",
      "execution_count": null,
      "metadata": {
        "colab": {
          "base_uri": "https://localhost:8080/",
          "height": 1000
        },
        "id": "aOm97Rvd-3MA",
        "outputId": "ec96da30-d993-4e80-c6bd-fd3c8f3dc860"
      },
      "outputs": [
        {
          "output_type": "execute_result",
          "data": {
            "text/plain": [
              "   Test Number Learning Rate Number of Epochs Accuracy with Benign Test Set  \\\n",
              "1            1         0.001                1                         98.13   \n",
              "2            2         0.001                1                         99.07   \n",
              "3            3         0.001                1                         98.72   \n",
              "4            4         0.001                1                         99.13   \n",
              "5            5         0.001                1                         98.88   \n",
              "6            6         0.001                1                         99.14   \n",
              "7            7         0.001                1                         99.08   \n",
              "8            8         0.001                1                         99.24   \n",
              "9            9         0.001                1                         99.33   \n",
              "10          10         0.001                1                         99.15   \n",
              "11          11        0.0001                1                         99.45   \n",
              "12          12        0.0001                1                         99.48   \n",
              "13          13        0.0001                1                         99.47   \n",
              "14          14        0.0001                1                         99.46   \n",
              "15          15        0.0001                1                         99.46   \n",
              "16          16        0.0001                1                         99.47   \n",
              "17          17        0.0001                1                         99.47   \n",
              "18          18        0.0001                1                         99.49   \n",
              "19          19        0.0001                1                         99.49   \n",
              "20          20        0.0001                1                         99.49   \n",
              "21          21       0.00001                1                         99.49   \n",
              "22          22       0.00001                1                         99.48   \n",
              "23          23       0.00001                1                         99.49   \n",
              "24          24       0.00001                1                         99.48   \n",
              "25          25       0.00001                1                          99.5   \n",
              "26          26       0.00001                1                         99.49   \n",
              "27          27       0.00001                1                         99.49   \n",
              "28          28       0.00001                1                          99.5   \n",
              "29          29       0.00001                1                          99.5   \n",
              "30          30       0.00001                1                          99.5   \n",
              "31          31      0.000001                1                          99.5   \n",
              "32          32      0.000001                1                          99.5   \n",
              "33          33      0.000001                1                          99.5   \n",
              "34          34      0.000001                1                          99.5   \n",
              "35          35      0.000001                1                          99.5   \n",
              "36          36      0.000001                1                          99.5   \n",
              "37          37      0.000001                1                          99.5   \n",
              "38          38      0.000001                1                          99.5   \n",
              "39          39      0.000001                1                          99.5   \n",
              "40          40      0.000001                1                          99.5   \n",
              "\n",
              "   Accuracy with Adversarial Test Set       Machine  \n",
              "1                               11.55  69864cfa8472  \n",
              "2                               14.79  69864cfa8472  \n",
              "3                               16.13  69864cfa8472  \n",
              "4                               14.35  69864cfa8472  \n",
              "5                                13.6  69864cfa8472  \n",
              "6                               12.17  69864cfa8472  \n",
              "7                                13.2  69864cfa8472  \n",
              "8                               11.95  69864cfa8472  \n",
              "9                               14.06  69864cfa8472  \n",
              "10                              13.27  69864cfa8472  \n",
              "11                              14.43  69864cfa8472  \n",
              "12                              14.76  69864cfa8472  \n",
              "13                              13.34  69864cfa8472  \n",
              "14                              13.17  69864cfa8472  \n",
              "15                              13.36  69864cfa8472  \n",
              "16                              12.83  69864cfa8472  \n",
              "17                              13.09  69864cfa8472  \n",
              "18                              12.93  69864cfa8472  \n",
              "19                              13.44  69864cfa8472  \n",
              "20                              12.84  69864cfa8472  \n",
              "21                              13.47  69864cfa8472  \n",
              "22                              12.48  69864cfa8472  \n",
              "23                              13.03  69864cfa8472  \n",
              "24                              13.21  69864cfa8472  \n",
              "25                              12.67  69864cfa8472  \n",
              "26                               13.2  69864cfa8472  \n",
              "27                              12.85  69864cfa8472  \n",
              "28                              12.73  69864cfa8472  \n",
              "29                              12.41  69864cfa8472  \n",
              "30                              12.28  69864cfa8472  \n",
              "31                              11.95  69864cfa8472  \n",
              "32                              12.71  69864cfa8472  \n",
              "33                              12.09  69864cfa8472  \n",
              "34                              12.56  69864cfa8472  \n",
              "35                              12.47  69864cfa8472  \n",
              "36                              12.14  69864cfa8472  \n",
              "37                              12.16  69864cfa8472  \n",
              "38                              12.26  69864cfa8472  \n",
              "39                              12.01  69864cfa8472  \n",
              "40                              12.73  69864cfa8472  "
            ],
            "text/html": [
              "\n",
              "  <div id=\"df-0768aa89-19bb-4bf7-bd74-02a0c7035702\">\n",
              "    <div class=\"colab-df-container\">\n",
              "      <div>\n",
              "<style scoped>\n",
              "    .dataframe tbody tr th:only-of-type {\n",
              "        vertical-align: middle;\n",
              "    }\n",
              "\n",
              "    .dataframe tbody tr th {\n",
              "        vertical-align: top;\n",
              "    }\n",
              "\n",
              "    .dataframe thead th {\n",
              "        text-align: right;\n",
              "    }\n",
              "</style>\n",
              "<table border=\"1\" class=\"dataframe\">\n",
              "  <thead>\n",
              "    <tr style=\"text-align: right;\">\n",
              "      <th></th>\n",
              "      <th>Test Number</th>\n",
              "      <th>Learning Rate</th>\n",
              "      <th>Number of Epochs</th>\n",
              "      <th>Accuracy with Benign Test Set</th>\n",
              "      <th>Accuracy with Adversarial Test Set</th>\n",
              "      <th>Machine</th>\n",
              "    </tr>\n",
              "  </thead>\n",
              "  <tbody>\n",
              "    <tr>\n",
              "      <th>1</th>\n",
              "      <td>1</td>\n",
              "      <td>0.001</td>\n",
              "      <td>1</td>\n",
              "      <td>98.13</td>\n",
              "      <td>11.55</td>\n",
              "      <td>69864cfa8472</td>\n",
              "    </tr>\n",
              "    <tr>\n",
              "      <th>2</th>\n",
              "      <td>2</td>\n",
              "      <td>0.001</td>\n",
              "      <td>1</td>\n",
              "      <td>99.07</td>\n",
              "      <td>14.79</td>\n",
              "      <td>69864cfa8472</td>\n",
              "    </tr>\n",
              "    <tr>\n",
              "      <th>3</th>\n",
              "      <td>3</td>\n",
              "      <td>0.001</td>\n",
              "      <td>1</td>\n",
              "      <td>98.72</td>\n",
              "      <td>16.13</td>\n",
              "      <td>69864cfa8472</td>\n",
              "    </tr>\n",
              "    <tr>\n",
              "      <th>4</th>\n",
              "      <td>4</td>\n",
              "      <td>0.001</td>\n",
              "      <td>1</td>\n",
              "      <td>99.13</td>\n",
              "      <td>14.35</td>\n",
              "      <td>69864cfa8472</td>\n",
              "    </tr>\n",
              "    <tr>\n",
              "      <th>5</th>\n",
              "      <td>5</td>\n",
              "      <td>0.001</td>\n",
              "      <td>1</td>\n",
              "      <td>98.88</td>\n",
              "      <td>13.6</td>\n",
              "      <td>69864cfa8472</td>\n",
              "    </tr>\n",
              "    <tr>\n",
              "      <th>6</th>\n",
              "      <td>6</td>\n",
              "      <td>0.001</td>\n",
              "      <td>1</td>\n",
              "      <td>99.14</td>\n",
              "      <td>12.17</td>\n",
              "      <td>69864cfa8472</td>\n",
              "    </tr>\n",
              "    <tr>\n",
              "      <th>7</th>\n",
              "      <td>7</td>\n",
              "      <td>0.001</td>\n",
              "      <td>1</td>\n",
              "      <td>99.08</td>\n",
              "      <td>13.2</td>\n",
              "      <td>69864cfa8472</td>\n",
              "    </tr>\n",
              "    <tr>\n",
              "      <th>8</th>\n",
              "      <td>8</td>\n",
              "      <td>0.001</td>\n",
              "      <td>1</td>\n",
              "      <td>99.24</td>\n",
              "      <td>11.95</td>\n",
              "      <td>69864cfa8472</td>\n",
              "    </tr>\n",
              "    <tr>\n",
              "      <th>9</th>\n",
              "      <td>9</td>\n",
              "      <td>0.001</td>\n",
              "      <td>1</td>\n",
              "      <td>99.33</td>\n",
              "      <td>14.06</td>\n",
              "      <td>69864cfa8472</td>\n",
              "    </tr>\n",
              "    <tr>\n",
              "      <th>10</th>\n",
              "      <td>10</td>\n",
              "      <td>0.001</td>\n",
              "      <td>1</td>\n",
              "      <td>99.15</td>\n",
              "      <td>13.27</td>\n",
              "      <td>69864cfa8472</td>\n",
              "    </tr>\n",
              "    <tr>\n",
              "      <th>11</th>\n",
              "      <td>11</td>\n",
              "      <td>0.0001</td>\n",
              "      <td>1</td>\n",
              "      <td>99.45</td>\n",
              "      <td>14.43</td>\n",
              "      <td>69864cfa8472</td>\n",
              "    </tr>\n",
              "    <tr>\n",
              "      <th>12</th>\n",
              "      <td>12</td>\n",
              "      <td>0.0001</td>\n",
              "      <td>1</td>\n",
              "      <td>99.48</td>\n",
              "      <td>14.76</td>\n",
              "      <td>69864cfa8472</td>\n",
              "    </tr>\n",
              "    <tr>\n",
              "      <th>13</th>\n",
              "      <td>13</td>\n",
              "      <td>0.0001</td>\n",
              "      <td>1</td>\n",
              "      <td>99.47</td>\n",
              "      <td>13.34</td>\n",
              "      <td>69864cfa8472</td>\n",
              "    </tr>\n",
              "    <tr>\n",
              "      <th>14</th>\n",
              "      <td>14</td>\n",
              "      <td>0.0001</td>\n",
              "      <td>1</td>\n",
              "      <td>99.46</td>\n",
              "      <td>13.17</td>\n",
              "      <td>69864cfa8472</td>\n",
              "    </tr>\n",
              "    <tr>\n",
              "      <th>15</th>\n",
              "      <td>15</td>\n",
              "      <td>0.0001</td>\n",
              "      <td>1</td>\n",
              "      <td>99.46</td>\n",
              "      <td>13.36</td>\n",
              "      <td>69864cfa8472</td>\n",
              "    </tr>\n",
              "    <tr>\n",
              "      <th>16</th>\n",
              "      <td>16</td>\n",
              "      <td>0.0001</td>\n",
              "      <td>1</td>\n",
              "      <td>99.47</td>\n",
              "      <td>12.83</td>\n",
              "      <td>69864cfa8472</td>\n",
              "    </tr>\n",
              "    <tr>\n",
              "      <th>17</th>\n",
              "      <td>17</td>\n",
              "      <td>0.0001</td>\n",
              "      <td>1</td>\n",
              "      <td>99.47</td>\n",
              "      <td>13.09</td>\n",
              "      <td>69864cfa8472</td>\n",
              "    </tr>\n",
              "    <tr>\n",
              "      <th>18</th>\n",
              "      <td>18</td>\n",
              "      <td>0.0001</td>\n",
              "      <td>1</td>\n",
              "      <td>99.49</td>\n",
              "      <td>12.93</td>\n",
              "      <td>69864cfa8472</td>\n",
              "    </tr>\n",
              "    <tr>\n",
              "      <th>19</th>\n",
              "      <td>19</td>\n",
              "      <td>0.0001</td>\n",
              "      <td>1</td>\n",
              "      <td>99.49</td>\n",
              "      <td>13.44</td>\n",
              "      <td>69864cfa8472</td>\n",
              "    </tr>\n",
              "    <tr>\n",
              "      <th>20</th>\n",
              "      <td>20</td>\n",
              "      <td>0.0001</td>\n",
              "      <td>1</td>\n",
              "      <td>99.49</td>\n",
              "      <td>12.84</td>\n",
              "      <td>69864cfa8472</td>\n",
              "    </tr>\n",
              "    <tr>\n",
              "      <th>21</th>\n",
              "      <td>21</td>\n",
              "      <td>0.00001</td>\n",
              "      <td>1</td>\n",
              "      <td>99.49</td>\n",
              "      <td>13.47</td>\n",
              "      <td>69864cfa8472</td>\n",
              "    </tr>\n",
              "    <tr>\n",
              "      <th>22</th>\n",
              "      <td>22</td>\n",
              "      <td>0.00001</td>\n",
              "      <td>1</td>\n",
              "      <td>99.48</td>\n",
              "      <td>12.48</td>\n",
              "      <td>69864cfa8472</td>\n",
              "    </tr>\n",
              "    <tr>\n",
              "      <th>23</th>\n",
              "      <td>23</td>\n",
              "      <td>0.00001</td>\n",
              "      <td>1</td>\n",
              "      <td>99.49</td>\n",
              "      <td>13.03</td>\n",
              "      <td>69864cfa8472</td>\n",
              "    </tr>\n",
              "    <tr>\n",
              "      <th>24</th>\n",
              "      <td>24</td>\n",
              "      <td>0.00001</td>\n",
              "      <td>1</td>\n",
              "      <td>99.48</td>\n",
              "      <td>13.21</td>\n",
              "      <td>69864cfa8472</td>\n",
              "    </tr>\n",
              "    <tr>\n",
              "      <th>25</th>\n",
              "      <td>25</td>\n",
              "      <td>0.00001</td>\n",
              "      <td>1</td>\n",
              "      <td>99.5</td>\n",
              "      <td>12.67</td>\n",
              "      <td>69864cfa8472</td>\n",
              "    </tr>\n",
              "    <tr>\n",
              "      <th>26</th>\n",
              "      <td>26</td>\n",
              "      <td>0.00001</td>\n",
              "      <td>1</td>\n",
              "      <td>99.49</td>\n",
              "      <td>13.2</td>\n",
              "      <td>69864cfa8472</td>\n",
              "    </tr>\n",
              "    <tr>\n",
              "      <th>27</th>\n",
              "      <td>27</td>\n",
              "      <td>0.00001</td>\n",
              "      <td>1</td>\n",
              "      <td>99.49</td>\n",
              "      <td>12.85</td>\n",
              "      <td>69864cfa8472</td>\n",
              "    </tr>\n",
              "    <tr>\n",
              "      <th>28</th>\n",
              "      <td>28</td>\n",
              "      <td>0.00001</td>\n",
              "      <td>1</td>\n",
              "      <td>99.5</td>\n",
              "      <td>12.73</td>\n",
              "      <td>69864cfa8472</td>\n",
              "    </tr>\n",
              "    <tr>\n",
              "      <th>29</th>\n",
              "      <td>29</td>\n",
              "      <td>0.00001</td>\n",
              "      <td>1</td>\n",
              "      <td>99.5</td>\n",
              "      <td>12.41</td>\n",
              "      <td>69864cfa8472</td>\n",
              "    </tr>\n",
              "    <tr>\n",
              "      <th>30</th>\n",
              "      <td>30</td>\n",
              "      <td>0.00001</td>\n",
              "      <td>1</td>\n",
              "      <td>99.5</td>\n",
              "      <td>12.28</td>\n",
              "      <td>69864cfa8472</td>\n",
              "    </tr>\n",
              "    <tr>\n",
              "      <th>31</th>\n",
              "      <td>31</td>\n",
              "      <td>0.000001</td>\n",
              "      <td>1</td>\n",
              "      <td>99.5</td>\n",
              "      <td>11.95</td>\n",
              "      <td>69864cfa8472</td>\n",
              "    </tr>\n",
              "    <tr>\n",
              "      <th>32</th>\n",
              "      <td>32</td>\n",
              "      <td>0.000001</td>\n",
              "      <td>1</td>\n",
              "      <td>99.5</td>\n",
              "      <td>12.71</td>\n",
              "      <td>69864cfa8472</td>\n",
              "    </tr>\n",
              "    <tr>\n",
              "      <th>33</th>\n",
              "      <td>33</td>\n",
              "      <td>0.000001</td>\n",
              "      <td>1</td>\n",
              "      <td>99.5</td>\n",
              "      <td>12.09</td>\n",
              "      <td>69864cfa8472</td>\n",
              "    </tr>\n",
              "    <tr>\n",
              "      <th>34</th>\n",
              "      <td>34</td>\n",
              "      <td>0.000001</td>\n",
              "      <td>1</td>\n",
              "      <td>99.5</td>\n",
              "      <td>12.56</td>\n",
              "      <td>69864cfa8472</td>\n",
              "    </tr>\n",
              "    <tr>\n",
              "      <th>35</th>\n",
              "      <td>35</td>\n",
              "      <td>0.000001</td>\n",
              "      <td>1</td>\n",
              "      <td>99.5</td>\n",
              "      <td>12.47</td>\n",
              "      <td>69864cfa8472</td>\n",
              "    </tr>\n",
              "    <tr>\n",
              "      <th>36</th>\n",
              "      <td>36</td>\n",
              "      <td>0.000001</td>\n",
              "      <td>1</td>\n",
              "      <td>99.5</td>\n",
              "      <td>12.14</td>\n",
              "      <td>69864cfa8472</td>\n",
              "    </tr>\n",
              "    <tr>\n",
              "      <th>37</th>\n",
              "      <td>37</td>\n",
              "      <td>0.000001</td>\n",
              "      <td>1</td>\n",
              "      <td>99.5</td>\n",
              "      <td>12.16</td>\n",
              "      <td>69864cfa8472</td>\n",
              "    </tr>\n",
              "    <tr>\n",
              "      <th>38</th>\n",
              "      <td>38</td>\n",
              "      <td>0.000001</td>\n",
              "      <td>1</td>\n",
              "      <td>99.5</td>\n",
              "      <td>12.26</td>\n",
              "      <td>69864cfa8472</td>\n",
              "    </tr>\n",
              "    <tr>\n",
              "      <th>39</th>\n",
              "      <td>39</td>\n",
              "      <td>0.000001</td>\n",
              "      <td>1</td>\n",
              "      <td>99.5</td>\n",
              "      <td>12.01</td>\n",
              "      <td>69864cfa8472</td>\n",
              "    </tr>\n",
              "    <tr>\n",
              "      <th>40</th>\n",
              "      <td>40</td>\n",
              "      <td>0.000001</td>\n",
              "      <td>1</td>\n",
              "      <td>99.5</td>\n",
              "      <td>12.73</td>\n",
              "      <td>69864cfa8472</td>\n",
              "    </tr>\n",
              "  </tbody>\n",
              "</table>\n",
              "</div>\n",
              "      <button class=\"colab-df-convert\" onclick=\"convertToInteractive('df-0768aa89-19bb-4bf7-bd74-02a0c7035702')\"\n",
              "              title=\"Convert this dataframe to an interactive table.\"\n",
              "              style=\"display:none;\">\n",
              "        \n",
              "  <svg xmlns=\"http://www.w3.org/2000/svg\" height=\"24px\"viewBox=\"0 0 24 24\"\n",
              "       width=\"24px\">\n",
              "    <path d=\"M0 0h24v24H0V0z\" fill=\"none\"/>\n",
              "    <path d=\"M18.56 5.44l.94 2.06.94-2.06 2.06-.94-2.06-.94-.94-2.06-.94 2.06-2.06.94zm-11 1L8.5 8.5l.94-2.06 2.06-.94-2.06-.94L8.5 2.5l-.94 2.06-2.06.94zm10 10l.94 2.06.94-2.06 2.06-.94-2.06-.94-.94-2.06-.94 2.06-2.06.94z\"/><path d=\"M17.41 7.96l-1.37-1.37c-.4-.4-.92-.59-1.43-.59-.52 0-1.04.2-1.43.59L10.3 9.45l-7.72 7.72c-.78.78-.78 2.05 0 2.83L4 21.41c.39.39.9.59 1.41.59.51 0 1.02-.2 1.41-.59l7.78-7.78 2.81-2.81c.8-.78.8-2.07 0-2.86zM5.41 20L4 18.59l7.72-7.72 1.47 1.35L5.41 20z\"/>\n",
              "  </svg>\n",
              "      </button>\n",
              "      \n",
              "  <style>\n",
              "    .colab-df-container {\n",
              "      display:flex;\n",
              "      flex-wrap:wrap;\n",
              "      gap: 12px;\n",
              "    }\n",
              "\n",
              "    .colab-df-convert {\n",
              "      background-color: #E8F0FE;\n",
              "      border: none;\n",
              "      border-radius: 50%;\n",
              "      cursor: pointer;\n",
              "      display: none;\n",
              "      fill: #1967D2;\n",
              "      height: 32px;\n",
              "      padding: 0 0 0 0;\n",
              "      width: 32px;\n",
              "    }\n",
              "\n",
              "    .colab-df-convert:hover {\n",
              "      background-color: #E2EBFA;\n",
              "      box-shadow: 0px 1px 2px rgba(60, 64, 67, 0.3), 0px 1px 3px 1px rgba(60, 64, 67, 0.15);\n",
              "      fill: #174EA6;\n",
              "    }\n",
              "\n",
              "    [theme=dark] .colab-df-convert {\n",
              "      background-color: #3B4455;\n",
              "      fill: #D2E3FC;\n",
              "    }\n",
              "\n",
              "    [theme=dark] .colab-df-convert:hover {\n",
              "      background-color: #434B5C;\n",
              "      box-shadow: 0px 1px 3px 1px rgba(0, 0, 0, 0.15);\n",
              "      filter: drop-shadow(0px 1px 2px rgba(0, 0, 0, 0.3));\n",
              "      fill: #FFFFFF;\n",
              "    }\n",
              "  </style>\n",
              "\n",
              "      <script>\n",
              "        const buttonEl =\n",
              "          document.querySelector('#df-0768aa89-19bb-4bf7-bd74-02a0c7035702 button.colab-df-convert');\n",
              "        buttonEl.style.display =\n",
              "          google.colab.kernel.accessAllowed ? 'block' : 'none';\n",
              "\n",
              "        async function convertToInteractive(key) {\n",
              "          const element = document.querySelector('#df-0768aa89-19bb-4bf7-bd74-02a0c7035702');\n",
              "          const dataTable =\n",
              "            await google.colab.kernel.invokeFunction('convertToInteractive',\n",
              "                                                     [key], {});\n",
              "          if (!dataTable) return;\n",
              "\n",
              "          const docLinkHtml = 'Like what you see? Visit the ' +\n",
              "            '<a target=\"_blank\" href=https://colab.research.google.com/notebooks/data_table.ipynb>data table notebook</a>'\n",
              "            + ' to learn more about interactive tables.';\n",
              "          element.innerHTML = '';\n",
              "          dataTable['output_type'] = 'display_data';\n",
              "          await google.colab.output.renderOutput(dataTable, element);\n",
              "          const docLink = document.createElement('div');\n",
              "          docLink.innerHTML = docLinkHtml;\n",
              "          element.appendChild(docLink);\n",
              "        }\n",
              "      </script>\n",
              "    </div>\n",
              "  </div>\n",
              "  "
            ]
          },
          "metadata": {},
          "execution_count": 51
        }
      ],
      "source": [
        "df = pd.DataFrame(data = log3layers)\n",
        "df.T"
      ]
    },
    {
      "cell_type": "code",
      "execution_count": null,
      "metadata": {
        "id": "jF27m9Jl_iui"
      },
      "outputs": [],
      "source": []
    }
  ],
  "metadata": {
    "accelerator": "GPU",
    "colab": {
      "provenance": []
    },
    "gpuClass": "standard",
    "kernelspec": {
      "display_name": "Python 3",
      "name": "python3"
    },
    "language_info": {
      "name": "python"
    }
  },
  "nbformat": 4,
  "nbformat_minor": 0
}